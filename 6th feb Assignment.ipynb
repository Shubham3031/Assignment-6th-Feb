{
 "cells": [
  {
   "cell_type": "code",
   "execution_count": 24,
   "id": "3e6ccac5-ea65-4afa-99a8-37405d16a01a",
   "metadata": {},
   "outputs": [
    {
     "name": "stdout",
     "output_type": "stream",
     "text": [
      "r$dzmg$gl$yvxlnv$z$wzgz$hxrvmgrhg.\n"
     ]
    }
   ],
   "source": [
    "# 2.Ans.\n",
    "def encrypt_message(message):\n",
    "    encrypted = \"\"\n",
    "    for char in message.lower():\n",
    "        if char.isalpha():\n",
    "            encrypted += chr(219 - ord(char)) \n",
    "        elif char.isspace():\n",
    "            encrypted += \"$\" \n",
    "        else:\n",
    "            encrypted += char\n",
    "    return encrypted.lower() \n",
    "\n",
    "message = \"I want to become a Data Scientist.\"\n",
    "encrypted_message = encrypt_message(message)\n",
    "print(encrypted_message)\n"
   ]
  },
  {
   "cell_type": "code",
   "execution_count": 2,
   "id": "8d9d57ea-1a21-452f-800f-23505ec12d68",
   "metadata": {},
   "outputs": [
    {
     "name": "stdout",
     "output_type": "stream",
     "text": [
      "dict_keys([1, 'key2', 4])\n",
      "dict_items([(1, 34), ('key2', [55, 67, 78, 89]), (4, (45, 22, 61, 34))])\n",
      "[1, 2, 3, 4, 44, 55, 66, 34, 56, 78, 89, 34, 1, 2, 3, 1, 4, 56]\n",
      "2315262738624675840\n"
     ]
    }
   ],
   "source": [
    "# 1.Ans.\n",
    "\n",
    "from collections.abc import Iterable\n",
    "\n",
    "def flatten_list(lst):\n",
    "    result = []\n",
    "    for i in lst:\n",
    "        if type(i)==int:\n",
    "            result.append(i)\n",
    "        elif type(i)==list or type(i)==tuple or type(i)==set:\n",
    "            for j in i:\n",
    "                if type(j)==int:\n",
    "                    result.append(j)\n",
    "        elif type(i)==dict:\n",
    "            print(i.keys())\n",
    "            print(i.items())\n",
    "            for j in i.keys():\n",
    "                if type(j)==int:\n",
    "                    result.append(j)\n",
    "            for j in i.items():\n",
    "                if type(j)==int:\n",
    "                    result.append(j)\n",
    "    return result\n",
    "\n",
    "def product_of_numbers(lst):\n",
    "    flattened_list = flatten_list(lst)\n",
    "    print(flattened_list)\n",
    "    result = 1\n",
    "    for item in flattened_list:\n",
    "        result *= item\n",
    "    return result\n",
    "\n",
    "list1 = [1,2,3,4, [44,55,66, True], False, (34,56,78,89,34), {1,2,3,3,2,1}, {1:34, \"key2\": [55, 67, 78, 89], 4: (45, 22, 61, 34)}, [56, 'data science'], 'Machine Learning']\n",
    "print(product_of_numbers(list1))\n"
   ]
  }
 ],
 "metadata": {
  "kernelspec": {
   "display_name": "Python 3 (ipykernel)",
   "language": "python",
   "name": "python3"
  },
  "language_info": {
   "codemirror_mode": {
    "name": "ipython",
    "version": 3
   },
   "file_extension": ".py",
   "mimetype": "text/x-python",
   "name": "python",
   "nbconvert_exporter": "python",
   "pygments_lexer": "ipython3",
   "version": "3.10.6"
  }
 },
 "nbformat": 4,
 "nbformat_minor": 5
}
